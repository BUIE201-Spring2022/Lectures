{
 "cells": [
  {
   "cell_type": "markdown",
   "metadata": {},
   "source": [
    "## system\n",
    "An entity which performs a function given an input (produce outputs)\n",
    "bus\n",
    "customer\n",
    "iett\n",
    "busstop\n",
    "\n",
    "## object\n",
    "- a tangible entity\n",
    "- objects exist\n",
    "\n",
    "1. attributes: weight, age, color of hair\n",
    "2. values assigned to attributes\n",
    "3. functions: things that the object is expected to do. sleep, walk, breath\n",
    "\n",
    "obj1 is a human object.\n",
    "at time t\n",
    "obj1.weight -> 10kg\n",
    "obj1.age -> 6\n",
    "obj1.a-ttn -> value\n",
    "\n",
    "at t + 10\n",
    "obj1.weight -> 12kg\n",
    "obj1.age -> 6\n",
    "obj1.a-ttn -> value\n",
    "\n",
    "the set of values assigned to the attributes of an object at time t is called the state of that object at time t.\n",
    "\n",
    "functions may change the state of an object\n",
    "\n",
    "== state of a system at time t is the collection of states of its objects at time t\n",
    "\n",
    "## class\n",
    "- is a concept / idea\n",
    "\n",
    "A group of objects with which share a subset of similar attributes and functions = > class\n",
    "1. a set of attribuıtes\n",
    "2. a set of functions\n",
    "\n",
    "an object is an **instance** of a class if it has the attributes and functions defined by the class\n",
    "\n",
    "\n",
    "\n",
    "# In OO sytems objects must have full control of its data (the values assigned to its attributes).\n",
    "# No object should be reading or writing the data of another object directly.\n",
    "\n",
    "\n",
    "# DATA ENCAPSULATION\n"
   ]
  }
 ],
 "metadata": {
  "interpreter": {
   "hash": "58bb41c0b5087c2b64c9c5e944653e133a7957ccc35d82dc772f29df3229b05c"
  },
  "kernelspec": {
   "display_name": "Python 3.7.4 ('base')",
   "language": "python",
   "name": "python3"
  },
  "language_info": {
   "name": "python",
   "version": "3.7.4"
  },
  "orig_nbformat": 4
 },
 "nbformat": 4,
 "nbformat_minor": 2
}
