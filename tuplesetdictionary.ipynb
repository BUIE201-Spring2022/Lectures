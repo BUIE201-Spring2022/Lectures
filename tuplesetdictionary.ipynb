{
 "cells": [
  {
   "cell_type": "markdown",
   "metadata": {},
   "source": [
    "## tuple\n",
    "- immutable\n",
    "\n",
    "\n",
    "## set\n",
    "- unique values are stored\n",
    "\n",
    "## dictionary\n",
    "- key / value pairs"
   ]
  },
  {
   "cell_type": "code",
   "execution_count": null,
   "metadata": {},
   "outputs": [],
   "source": [
    "c = (3, 5)\n",
    "x = 4, \"tamer\", 9.99\n",
    "\n",
    "a, b = c\n"
   ]
  },
  {
   "cell_type": "code",
   "execution_count": 1,
   "metadata": {},
   "outputs": [
    {
     "name": "stdout",
     "output_type": "stream",
     "text": [
      "{4, 5, 6}\n"
     ]
    }
   ],
   "source": [
    "y = {4, 5, 6, 6, 5, 4}\n",
    "print(y)"
   ]
  },
  {
   "cell_type": "code",
   "execution_count": 4,
   "metadata": {},
   "outputs": [
    {
     "name": "stdout",
     "output_type": "stream",
     "text": [
      "{1234: 'tamer', 98345: 'kljadhsf'}\n",
      "tamer\n"
     ]
    }
   ],
   "source": [
    "students = { 1234 : \"tamer\", 98345: \"kljadhsf\"}\n",
    "print(students)\n",
    "\n",
    "print (students[1234])"
   ]
  }
 ],
 "metadata": {
  "interpreter": {
   "hash": "58bb41c0b5087c2b64c9c5e944653e133a7957ccc35d82dc772f29df3229b05c"
  },
  "kernelspec": {
   "display_name": "Python 3.7.4 ('base')",
   "language": "python",
   "name": "python3"
  },
  "language_info": {
   "codemirror_mode": {
    "name": "ipython",
    "version": 3
   },
   "file_extension": ".py",
   "mimetype": "text/x-python",
   "name": "python",
   "nbconvert_exporter": "python",
   "pygments_lexer": "ipython3",
   "version": "3.7.4"
  },
  "orig_nbformat": 4
 },
 "nbformat": 4,
 "nbformat_minor": 2
}
