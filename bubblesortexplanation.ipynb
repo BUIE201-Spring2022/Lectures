{
 "cells": [
  {
   "cell_type": "markdown",
   "metadata": {},
   "source": [
    "[^64, 34, 25, 12, 22, 11, 90]\n",
    "\n",
    "64 vs 34 -> switch the seq since 64 > 34\n",
    "\n",
    "34 ^64, 25\n",
    "34 25 ^64 12\n",
    "34 25 12 ^64 22\n",
    "34 25 12 22 ^64 11\n",
    "34 25 12 22 11 64 3 *90\n",
    "\n",
    "25 12 22 11 34 *64 90 *\n",
    "\n",
    "\n",
    "\n",
    "[14, 25, 12, 22, 11, 34, *90]\n",
    "\n",
    "\n",
    "f(n) ?\n",
    "\n",
    "first loop n-1 times\n",
    " second loop from 1 to n-1\n",
    "\n",
    "\n",
    " in total n (n-1) / 2 times we check the if (this is also the max number of switch operations)\n",
    "\n",
    " f(n) = O(n ^ 2)\n",
    "\n",
    " sorting time complexity is mostly expected to be O(n logn)\n",
    "\n",
    " binary search O(log n)\n",
    "\n"
   ]
  },
  {
   "cell_type": "code",
   "execution_count": null,
   "metadata": {},
   "outputs": [],
   "source": []
  },
  {
   "cell_type": "code",
   "execution_count": null,
   "metadata": {},
   "outputs": [],
   "source": []
  }
 ],
 "metadata": {
  "language_info": {
   "name": "python"
  },
  "orig_nbformat": 4
 },
 "nbformat": 4,
 "nbformat_minor": 2
}
