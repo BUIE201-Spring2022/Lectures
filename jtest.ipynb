{
 "cells": [
  {
   "cell_type": "markdown",
   "metadata": {},
   "source": [
    "# Random number generation\n",
    "This is just an introduction. Please read the full array of functions in the **random** module."
   ]
  },
  {
   "cell_type": "code",
   "execution_count": null,
   "metadata": {},
   "outputs": [],
   "source": [
    "import random\n",
    "\n",
    "for i in range(30):\n",
    "    print(random.r(1,1000))"
   ]
  },
  {
   "cell_type": "markdown",
   "metadata": {},
   "source": [
    "# First steps into pygame\n",
    "First, please make sure that pygame is installed into your environment.\n",
    "```\n",
    "pip install pygame\n",
    "```\n",
    "\n",
    "rgb colors\n"
   ]
  },
  {
   "cell_type": "code",
   "execution_count": 3,
   "metadata": {},
   "outputs": [],
   "source": [
    "import pygame\n",
    "\n",
    "pygame.init()\n",
    "width, height = 320, 240\n",
    "size = (width, height)\n",
    "black = (0, 0, 0)\n",
    "\n",
    "screen = pygame.display.set_mode(size)\n",
    "\n",
    "ballgif = pygame.image.load(\"ball.gif\")\n",
    "ballrect = ballgif.get_rect()\n",
    "\n",
    "screen.fill(black)\n",
    "screen.blit(ballgif, ballrect)\n",
    "pygame.display.flip()\n",
    "\n",
    "pygame.time.wait(50000)\n",
    "\n",
    "pygame.quit()"
   ]
  }
 ],
 "metadata": {
  "interpreter": {
   "hash": "58bb41c0b5087c2b64c9c5e944653e133a7957ccc35d82dc772f29df3229b05c"
  },
  "kernelspec": {
   "display_name": "Python 3.7.4 ('base')",
   "language": "python",
   "name": "python3"
  },
  "language_info": {
   "codemirror_mode": {
    "name": "ipython",
    "version": 3
   },
   "file_extension": ".py",
   "mimetype": "text/x-python",
   "name": "python",
   "nbconvert_exporter": "python",
   "pygments_lexer": "ipython3",
   "version": "3.7.4"
  },
  "orig_nbformat": 4
 },
 "nbformat": 4,
 "nbformat_minor": 2
}
